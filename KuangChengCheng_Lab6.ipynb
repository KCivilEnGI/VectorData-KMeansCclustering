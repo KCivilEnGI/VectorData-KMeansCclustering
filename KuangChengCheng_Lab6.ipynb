{
 "cells": [
  {
   "cell_type": "markdown",
   "id": "02302904-6834-49cc-8c70-fcc1e4c2aba3",
   "metadata": {},
   "source": [
    "# Task 1: Vector Computation"
   ]
  },
  {
   "cell_type": "code",
   "execution_count": 174,
   "id": "594ff2f7-0cef-419f-a520-0a678259e7ef",
   "metadata": {},
   "outputs": [
    {
     "name": "stdout",
     "output_type": "stream",
     "text": [
      "length:  7.0\n",
      "caculate the area of a polygon\n",
      "Area:  -6.0. (Points order is counter-clockwise)\n",
      "get the centroid of a polygon\n",
      "(2.0, 1.33)\n",
      "get the minumum bounding envelop of a polygon\n",
      "upper boundary: 4\n",
      "lower boundary: 0\n",
      "right boundary: 3\n",
      "left  boundary: 0\n"
     ]
    }
   ],
   "source": [
    "import sys\n",
    "import os\n",
    "import math\n",
    "import json\n",
    "\n",
    "class Point:\n",
    "    def __init__(self,x,y):\n",
    "        self.lon = x\n",
    "        self.lat = y\n",
    "        \n",
    "class Polyline:\n",
    "    def __init__(self, points = []):\n",
    "        self.points = points\n",
    "        \n",
    "    def getLength(self): # Euclidean distance\n",
    "        Length = 0.0\n",
    "        for i in range(len(self.points)-1):\n",
    "            Length += math.sqrt((self.points[i+1].lon-self.points[i].lon)**2 +(self.points[i+1].lat-self.points[i].lat)**2)\n",
    "        return Length\n",
    "\n",
    "class Polygon:\n",
    "    def __init__(self, points = []):\n",
    "        self.points = points\n",
    "        \n",
    "    def getArea(self):\n",
    "        # Implement the method here\n",
    "        Area = 0\n",
    "        print(\"caculate the area of a polygon\")\n",
    "        self.pt_count = len(self.points)\n",
    "        for i in range(self.pt_count-1):\n",
    "            Area += ((self.points[i+1].lon-self.points[i].lon)*(self.points[i+1].lat+self.points[i].lat)/2)\n",
    "        return Area\n",
    "    \n",
    "    def getCentroid(self):\n",
    "        # Implement the method here\n",
    "        print(\"get the centroid of a polygon\")\n",
    "        area = 0\n",
    "        x_numer = 0\n",
    "        y_numer = 0\n",
    "        for i in range(self.pt_count-1):\n",
    "            area += (self.points[i+1].lon*self.points[i].lat-self.points[i].lon*self.points[i+1].lat)\n",
    "            x_numer += (self.points[i+1].lon+self.points[i].lon)*(self.points[i+1].lon*self.points[i].lat-self.points[i].lon*self.points[i+1].lat)\n",
    "            y_numer += (self.points[i+1].lat+self.points[i].lat)*(self.points[i+1].lon*self.points[i].lat-self.points[i].lon*self.points[i+1].lat)\n",
    "        denom = 6*area/2\n",
    "        x_centro = round(x_numer/denom, 2)\n",
    "        y_centro = round(y_numer/denom, 2)\n",
    "        return x_centro, y_centro\n",
    "        \n",
    "    def getEnvelop(self):\n",
    "        # Implement the method here\n",
    "        print(\"get the minumum bounding envelop of a polygon\")\n",
    "        ptx = []\n",
    "        pty = []\n",
    "        for i in range(self.pt_count-1):\n",
    "            ptx.append(self.points[i].lon)\n",
    "            pty.append(self.points[i].lat)\n",
    "        bound_rt = max(ptx)\n",
    "        bound_lt = min(ptx)\n",
    "        bound_up = max(pty)\n",
    "        bound_dn = min(pty)\n",
    "        print(\"upper boundary: %s\\nlower boundary: %s\\nright boundary: %s\\nleft  boundary: %s\"% (bound_up,bound_dn,bound_rt,bound_lt))\n",
    "        return bound_rt, bound_lt, bound_up, bound_dn\n",
    "        \n",
    "        \n",
    "if __name__ == \"__main__\":\n",
    "    pointA=Point(0, 0)\n",
    "    pointB=Point(3, 0)\n",
    "    pointC=Point(3, 4)\n",
    "    line= Polyline([pointA,pointB,pointC])\n",
    "    print (\"length: \", line.getLength())\n",
    "    polygon = Polygon([pointA,pointB,pointC,pointA])\n",
    "    area = polygon.getArea()\n",
    "    if area<0:\n",
    "        print (\"Area: \",str(area)+\".\", \"(Points order is counter-clockwise)\")\n",
    "    elif area==0:\n",
    "        print (\"Area: \", area)\n",
    "    else:\n",
    "        print (\"Area: \",str(area)+\".\", \"Points order is clockwise.\")\n",
    "    centro = polygon.getCentroid()\n",
    "    print(centro)\n",
    "    bounda = polygon.getEnvelop()\n",
    "    "
   ]
  },
  {
   "cell_type": "markdown",
   "id": "cf47f313-2d5c-4565-8a7a-090369852c5d",
   "metadata": {},
   "source": [
    "# Task 2: Geometry Operation and Geodata Structure"
   ]
  },
  {
   "cell_type": "code",
   "execution_count": 175,
   "id": "95aee8bd-ed5c-4cc2-9c8a-5e0ee7289d27",
   "metadata": {},
   "outputs": [],
   "source": [
    "from shapely.geometry import Point, MultiPoint, LineString, Polygon, shape\n",
    "import json\n",
    "import pylab\n",
    "import numpy\n",
    "import pandas as pd\n",
    "import geopandas as gpd"
   ]
  },
  {
   "cell_type": "code",
   "execution_count": 176,
   "id": "bfc18807-ee78-4f51-8e44-97ecf044883d",
   "metadata": {},
   "outputs": [],
   "source": [
    "# import packages\n",
    "import flickrapi\n",
    "import json\n",
    "import pandas as pd\n",
    "# create the API class\n",
    "API_KEY = \"e1d678195a28b55313f6babd78864ace\"\n",
    "API_SECRET = \"d071c3199097d80f\"\n",
    "flickr = flickrapi.FlickrAPI(API_KEY, API_SECRET, cache=True)\n",
    "# retrieve a set of photos within 1 km of Wisconsin State Capitol\n",
    "id_collection = []\n",
    "for j in range(2):\n",
    "    photos = flickr.photos.search(lat=25.034, lon=121.5644, radius=32, tags=\"food\", extras='url_c', max_taken_date='2022-01-01', page = 'j', format = 'json')\n",
    "    photos = photos.decode()\n",
    "    photos = json.loads(photos)\n",
    "    # iterate photos in the photo set\n",
    "    for i, photo_url in enumerate(photos['photos']['photo']):\n",
    "        if i >= 500:\n",
    "            break\n",
    "        # get the photo url\n",
    "        url = photo_url.get('url_c')\n",
    "        pid = photo_url.get('id')\n",
    "        if url is not None:\n",
    "            id_collection.append(pid)\n",
    "        \n",
    "# prepare empty lists to collect data\n",
    "lst_id = []\n",
    "lst_lat = []\n",
    "lst_lon = []\n",
    "lst_tags = []\n",
    "lst_takentime = []\n",
    "lst_url = []\n",
    "lst_userid = []\n",
    "lst_username = []\n",
    "lst_realname = []\n",
    "lst_RegiLoc = []\n",
    "lst_photosCount = []\n",
    "## retrieve the information (json format) of the photo with id\n",
    "for i in range(len(id_collection)):\n",
    "    photo_info = flickr.photos.getInfo(photo_id=id_collection[i], format='json')\n",
    "    # convert binary data to string \n",
    "    photo_info_d = photo_info.decode()\n",
    "    # load photo information\n",
    "    photo_info_l = json.loads(photo_info_d)\n",
    "    #Get user information\n",
    "    uid = photo_info_l['photo']['owner']['nsid']\n",
    "    user_info = flickr.people.getInfo(user_id= uid, format='json')\n",
    "    user_info_d = user_info.decode()\n",
    "    user_info_l = json.loads(user_info_d)\n",
    "    #put data into their corresponding containers\n",
    "    lst_id.append(photo_info_l['photo']['id'])\n",
    "    lst_lat.append(photo_info_l['photo'][\"location\"]['latitude'])\n",
    "    lst_lon.append(photo_info_l['photo'][\"location\"]['longitude'])\n",
    "    lst_tags.append(photo_info_l['photo']['tags']['tag'])\n",
    "    lst_takentime.append(photo_info_l['photo']['dates']['taken'])\n",
    "    lst_url.append(photo_info_l['photo']['urls']['url'][0][\"_content\"])\n",
    "    lst_userid.append(photo_info_l['photo']['owner']['nsid'])\n",
    "    lst_username.append(photo_info_l['photo']['owner']['username'])\n",
    "    lst_realname.append(photo_info_l['photo']['owner']['realname'])\n",
    "    lst_RegiLoc.append(photo_info_l['photo']['owner']['location'])\n",
    "    lst_photosCount.append(user_info_l['person']['photos']['count']['_content'])\n",
    "    \n",
    "# dictionary of lists  \n",
    "dict = {'Photo ID': lst_id, 'Latitude': lst_lat, 'Longitude': lst_lon, 'tags': lst_tags, 'taken time':lst_takentime, 'url':lst_url, 'user id':lst_userid, 'username':lst_username, 'realname':lst_realname, 'registered location':lst_RegiLoc, 'photos count':lst_photosCount}  \n",
    "df = pd.DataFrame(dict)\n",
    "# saving the dataframe\n",
    "df.to_csv('500Photo_Lab6.csv', index = False) "
   ]
  },
  {
   "cell_type": "code",
   "execution_count": 177,
   "id": "d1cd073b-3db8-46d4-a7fe-f130d78b0145",
   "metadata": {},
   "outputs": [
    {
     "data": {
      "text/html": [
       "<div>\n",
       "<style scoped>\n",
       "    .dataframe tbody tr th:only-of-type {\n",
       "        vertical-align: middle;\n",
       "    }\n",
       "\n",
       "    .dataframe tbody tr th {\n",
       "        vertical-align: top;\n",
       "    }\n",
       "\n",
       "    .dataframe thead th {\n",
       "        text-align: right;\n",
       "    }\n",
       "</style>\n",
       "<table border=\"1\" class=\"dataframe\">\n",
       "  <thead>\n",
       "    <tr style=\"text-align: right;\">\n",
       "      <th></th>\n",
       "      <th>Photo ID</th>\n",
       "      <th>Latitude</th>\n",
       "      <th>Longitude</th>\n",
       "      <th>tags</th>\n",
       "      <th>taken time</th>\n",
       "      <th>url</th>\n",
       "      <th>user id</th>\n",
       "      <th>username</th>\n",
       "      <th>realname</th>\n",
       "      <th>registered location</th>\n",
       "      <th>photos count</th>\n",
       "      <th>geometry</th>\n",
       "    </tr>\n",
       "  </thead>\n",
       "  <tbody>\n",
       "    <tr>\n",
       "      <th>0</th>\n",
       "      <td>50311942621</td>\n",
       "      <td>25.043872</td>\n",
       "      <td>121.531300</td>\n",
       "      <td>[{'id': '8951431-50311942621-7679', 'author': ...</td>\n",
       "      <td>2020-08-04 18:17:17</td>\n",
       "      <td>https://www.flickr.com/photos/sfmine79/5031194...</td>\n",
       "      <td>8996753@N06</td>\n",
       "      <td>MiNe (sfmine79)</td>\n",
       "      <td>MiNe</td>\n",
       "      <td>Taipei, Taiwan</td>\n",
       "      <td>52125</td>\n",
       "      <td>POINT (121.53130 25.04387)</td>\n",
       "    </tr>\n",
       "    <tr>\n",
       "      <th>1</th>\n",
       "      <td>50312117152</td>\n",
       "      <td>25.048450</td>\n",
       "      <td>121.533194</td>\n",
       "      <td>[{'id': '8951431-50312117152-7679', 'author': ...</td>\n",
       "      <td>2020-08-14 12:06:09</td>\n",
       "      <td>https://www.flickr.com/photos/sfmine79/5031211...</td>\n",
       "      <td>8996753@N06</td>\n",
       "      <td>MiNe (sfmine79)</td>\n",
       "      <td>MiNe</td>\n",
       "      <td>Taipei, Taiwan</td>\n",
       "      <td>52125</td>\n",
       "      <td>POINT (121.53319 25.04845)</td>\n",
       "    </tr>\n",
       "    <tr>\n",
       "      <th>2</th>\n",
       "      <td>50311942116</td>\n",
       "      <td>25.071888</td>\n",
       "      <td>121.519077</td>\n",
       "      <td>[{'id': '8951431-50311942116-7679', 'author': ...</td>\n",
       "      <td>2020-08-23 18:47:54</td>\n",
       "      <td>https://www.flickr.com/photos/sfmine79/5031194...</td>\n",
       "      <td>8996753@N06</td>\n",
       "      <td>MiNe (sfmine79)</td>\n",
       "      <td>MiNe</td>\n",
       "      <td>Taipei, Taiwan</td>\n",
       "      <td>52125</td>\n",
       "      <td>POINT (121.51908 25.07189)</td>\n",
       "    </tr>\n",
       "    <tr>\n",
       "      <th>3</th>\n",
       "      <td>50311274988</td>\n",
       "      <td>25.053025</td>\n",
       "      <td>121.547961</td>\n",
       "      <td>[{'id': '8951431-50311274988-7679', 'author': ...</td>\n",
       "      <td>2020-08-25 15:38:28</td>\n",
       "      <td>https://www.flickr.com/photos/sfmine79/5031127...</td>\n",
       "      <td>8996753@N06</td>\n",
       "      <td>MiNe (sfmine79)</td>\n",
       "      <td>MiNe</td>\n",
       "      <td>Taipei, Taiwan</td>\n",
       "      <td>52125</td>\n",
       "      <td>POINT (121.54796 25.05303)</td>\n",
       "    </tr>\n",
       "    <tr>\n",
       "      <th>4</th>\n",
       "      <td>50195907392</td>\n",
       "      <td>25.037530</td>\n",
       "      <td>121.566844</td>\n",
       "      <td>[{'id': '8951431-50195907392-7679', 'author': ...</td>\n",
       "      <td>2020-07-11 20:00:03</td>\n",
       "      <td>https://www.flickr.com/photos/sfmine79/5019590...</td>\n",
       "      <td>8996753@N06</td>\n",
       "      <td>MiNe (sfmine79)</td>\n",
       "      <td>MiNe</td>\n",
       "      <td>Taipei, Taiwan</td>\n",
       "      <td>52125</td>\n",
       "      <td>POINT (121.56684 25.03753)</td>\n",
       "    </tr>\n",
       "  </tbody>\n",
       "</table>\n",
       "</div>"
      ],
      "text/plain": [
       "      Photo ID   Latitude   Longitude  \\\n",
       "0  50311942621  25.043872  121.531300   \n",
       "1  50312117152  25.048450  121.533194   \n",
       "2  50311942116  25.071888  121.519077   \n",
       "3  50311274988  25.053025  121.547961   \n",
       "4  50195907392  25.037530  121.566844   \n",
       "\n",
       "                                                tags           taken time  \\\n",
       "0  [{'id': '8951431-50311942621-7679', 'author': ...  2020-08-04 18:17:17   \n",
       "1  [{'id': '8951431-50312117152-7679', 'author': ...  2020-08-14 12:06:09   \n",
       "2  [{'id': '8951431-50311942116-7679', 'author': ...  2020-08-23 18:47:54   \n",
       "3  [{'id': '8951431-50311274988-7679', 'author': ...  2020-08-25 15:38:28   \n",
       "4  [{'id': '8951431-50195907392-7679', 'author': ...  2020-07-11 20:00:03   \n",
       "\n",
       "                                                 url      user id  \\\n",
       "0  https://www.flickr.com/photos/sfmine79/5031194...  8996753@N06   \n",
       "1  https://www.flickr.com/photos/sfmine79/5031211...  8996753@N06   \n",
       "2  https://www.flickr.com/photos/sfmine79/5031194...  8996753@N06   \n",
       "3  https://www.flickr.com/photos/sfmine79/5031127...  8996753@N06   \n",
       "4  https://www.flickr.com/photos/sfmine79/5019590...  8996753@N06   \n",
       "\n",
       "          username realname registered location  photos count  \\\n",
       "0  MiNe (sfmine79)     MiNe      Taipei, Taiwan         52125   \n",
       "1  MiNe (sfmine79)     MiNe      Taipei, Taiwan         52125   \n",
       "2  MiNe (sfmine79)     MiNe      Taipei, Taiwan         52125   \n",
       "3  MiNe (sfmine79)     MiNe      Taipei, Taiwan         52125   \n",
       "4  MiNe (sfmine79)     MiNe      Taipei, Taiwan         52125   \n",
       "\n",
       "                     geometry  \n",
       "0  POINT (121.53130 25.04387)  \n",
       "1  POINT (121.53319 25.04845)  \n",
       "2  POINT (121.51908 25.07189)  \n",
       "3  POINT (121.54796 25.05303)  \n",
       "4  POINT (121.56684 25.03753)  "
      ]
     },
     "execution_count": 177,
     "metadata": {},
     "output_type": "execute_result"
    }
   ],
   "source": [
    "# Load 500 flickr photo data from a CSV file\n",
    "df_fPhotos = pd.read_csv('500Photo_Lab6.csv')\n",
    "# Convert CSV to GeoDataFrame\n",
    "gdf_fPhotos = gpd.GeoDataFrame(data=df_fPhotos, geometry=gpd.points_from_xy(x=df_fPhotos.Longitude, y=df_fPhotos.Latitude))\n",
    "gdf_fPhotos.head()"
   ]
  },
  {
   "cell_type": "code",
   "execution_count": 178,
   "id": "b9c84493-a24a-4062-98b5-5d47d243569b",
   "metadata": {},
   "outputs": [
    {
     "data": {
      "image/png": "[encoded data removed]",
      "text/plain": [
       "<Figure size 432x288 with 1 Axes>"
      ]
     },
     "metadata": {
      "needs_background": "light"
     },
     "output_type": "display_data"
    }
   ],
   "source": [
    "# format wanted polygons and conbine point sets\n",
    "point_collection = []\n",
    "gdf_fPhotos = gdf_fPhotos.set_crs('epsg:3824')\n",
    "# read 2 map shapefile\n",
    "gdf_tw_base = gpd.read_file(\"COUNTY_MOI_1090820.shp\")\n",
    "gdf_tw_tpe = gpd.read_file(\"TaipeiCity.shp\")\n",
    "for index, row in gdf_fPhotos.iterrows():\n",
    "    p = row['geometry']\n",
    "    if gdf_tw_tpe.contains(p)[0] == True:\n",
    "        point_collection.append(p)\n",
    "city_col = []\n",
    "lat_col = []\n",
    "lng_col = []\n",
    "count = len(point_collection)\n",
    "for i in range(count):\n",
    "    lng_col.append(point_collection[i].x)\n",
    "    lat_col.append(point_collection[i].y)\n",
    "    city_col.append(\"Taipei\")\n",
    "dict = {'city': city_col, 'lng':lng_col, 'lat':lat_col}  \n",
    "df_tpe_contain = pd.DataFrame(dict)\n",
    "# create a convex hull for points inside Taipei City.\n",
    "# differentiate points inside Taipei City and outside Taipei City\n",
    "gdf_tpe_contain = gpd.GeoDataFrame(data=df_tpe_contain, geometry=gpd.points_from_xy(x=df_tpe_contain.lng, y=df_tpe_contain.lat))\n",
    "tpe_contain_diss = gdf_tpe_contain.dissolve(by='city')\n",
    "tpe_contain_convexHull = tpe_contain_diss.convex_hull\n",
    "tw_base = gdf_tw_base.plot(color='lightsteelblue',edgecolor='white')\n",
    "tw_tpe_mark = gdf_tw_tpe.plot(ax=tw_base, color='darkseagreen',edgecolor='white')\n",
    "tpe_pt_area = tpe_contain_convexHull.plot(ax=tw_tpe_mark, color=\"gold\")\n",
    "all_pts_layer = gdf_fPhotos.plot(ax=tpe_pt_area, marker='o', color='r', markersize=5)\n",
    "tpe_contain_diss.plot(ax=all_pts_layer, marker='o', color='darkcyan', markersize=5)\n",
    "pylab.axis([120.90, 122, 24.50, 25.30])\n",
    "pylab.show()"
   ]
  },
  {
   "cell_type": "markdown",
   "id": "a86ec795-9b04-4e14-8c87-e5fa3d52307e",
   "metadata": {
    "tags": []
   },
   "source": [
    "# Task 3: K-Means clustering"
   ]
  },
  {
   "cell_type": "code",
   "execution_count": 179,
   "id": "07c48fb9-60b1-41ad-b668-a5ed44bb86b7",
   "metadata": {},
   "outputs": [
    {
     "name": "stdout",
     "output_type": "stream",
     "text": [
      "0.047887516459941715 82\n",
      "0.1456692551041303 3\n"
     ]
    }
   ],
   "source": [
    "# Random number\n",
    "import random\n",
    "print(random.random(), random.randint(0, 100))\n",
    "random.seed(100)\n",
    "print(random.random(), random.randint(0, 5))"
   ]
  },
  {
   "cell_type": "code",
   "execution_count": 180,
   "id": "350e8dba-e2ae-4b10-9801-54f714026f25",
   "metadata": {},
   "outputs": [
    {
     "data": {
      "image/png": "[encoded data removed]",
      "text/plain": [
       "<Figure size 432x288 with 1 Axes>"
      ]
     },
     "metadata": {
      "needs_background": "light"
     },
     "output_type": "display_data"
    }
   ],
   "source": [
    "# Task 2 photo location points  \n",
    "gdf_fPhotos.plot()\n",
    "pylab.show()"
   ]
  },
  {
   "cell_type": "code",
   "execution_count": 242,
   "id": "80334c2b-5082-41cb-a73e-b3b9cb883d63",
   "metadata": {},
   "outputs": [
    {
     "data": {
      "image/png": "[encoded data removed]",
      "text/plain": [
       "<Figure size 432x288 with 1 Axes>"
      ]
     },
     "metadata": {
      "needs_background": "light"
     },
     "output_type": "display_data"
    }
   ],
   "source": [
    "class K_Means:\n",
    "    def __init__(self, k=5, max_iterations=10):\n",
    "        self.k = k\n",
    "        self.max_iterations = max_iterations\n",
    "        self.centroids = []\n",
    "        self.data_class = {}\n",
    "        \n",
    "        for i in range(self.k):\n",
    "            x_rand = random.randint(-180, 180)\n",
    "            y_rand = random.randint(-90, 90)\n",
    "            self.centroids.append((x_rand, y_rand))\n",
    "\n",
    "    def fit(self, all_data): \n",
    "        for i in range(self.max_iterations):\n",
    "            self.assignment(all_data)\n",
    "            self.update()\n",
    "        return self.data_class\n",
    "    \n",
    "    \n",
    "    def assignment(self, all_data):\n",
    "        count = len(all_data)\n",
    "        num = 0\n",
    "        for i in range(count):\n",
    "            data = (all_data[i].x, all_data[i].y)\n",
    "            # calculate distance between features and centroids.\n",
    "            # Then assign each feature to its nearest centroid.\n",
    "            dis_min = 100000 # set a large number\n",
    "            for i in range(self.k):\n",
    "                distance = math.sqrt((data[0]-self.centroids[i][0])**2 +(data[1]-self.centroids[i][1])**2)\n",
    "                if distance < dis_min:\n",
    "                    dis_min = min(distance, dis_min)\n",
    "                    self.data_class[data] = i\n",
    "                else:\n",
    "                    continue\n",
    "\n",
    "    def update(self):\n",
    "        dict = self.data_class #lots of (x,y) = j\n",
    "        new_x = []\n",
    "        new_y = []\n",
    "        x_collection = []\n",
    "        y_collection = []\n",
    "        for i in range(self.k):\n",
    "            x_collection.append([])\n",
    "            y_collection.append([])\n",
    "        for key in dict.keys():\n",
    "            for i in range(self.k):\n",
    "                new_x.append(key[0])\n",
    "                new_y.append(key[1])\n",
    "                if dict[key] == i:\n",
    "                    x_collection[i].append(key[0])\n",
    "                    y_collection[i].append(key[1])\n",
    "            #key[0] => x coordinate in data\n",
    "            #key[1] => y coordinate in data\n",
    "        for i in range(self.k):\n",
    "            # x_collection = [[all_x0], [all_x1], [all_x2].....]\n",
    "            # y_collection = [[all_y0], [all_y1], [all_y2].....]\n",
    "            if x_collection[i]==[] or y_collection[i]==[]:\n",
    "                x_rand = random.uniform(min(new_x), max(new_x))\n",
    "                y_rand = random.uniform(min(new_y), max(new_y))\n",
    "                self.centroids[i] = (x_rand, y_rand)\n",
    "                #print(\"Unused centroid %s has been updated\" % (str(i)))\n",
    "                #print(\"New centroid coord = %s\" % (str(self.centroids[i])))\n",
    "                #print(\"one round end\")\n",
    "            else:\n",
    "                self.centroids[i] = (sum(x_collection[i]) / len(x_collection[i]), sum(y_collection[i]) / len(y_collection[i]))\n",
    "                #print(\"centroid %s has been updated\" % str(i))\n",
    "                #print(\"New centroid coord = %s\" % (str(self.centroids[i])))\n",
    "                #print(\"one round end\")\n",
    "        \n",
    "    \n",
    "\n",
    "if __name__ == \"__main__\":\n",
    "    cluster_num = 3\n",
    "    pts = gdf_fPhotos['geometry']\n",
    "    kmeans = K_Means(k=cluster_num ,max_iterations=10)\n",
    "    #print(len(pts))\n",
    "    class_dict = kmeans.fit(pts)\n",
    "    coord_cluster = []\n",
    "    for i in range(cluster_num):\n",
    "        coord_cluster.append([])\n",
    "    for key in class_dict.keys():\n",
    "        for i in range(cluster_num):\n",
    "            if class_dict[key] == i:\n",
    "                coord_cluster[i].append(key)\n",
    "    \n",
    "    # 因為 k=2\n",
    "    dict_lst = []\n",
    "    for i in range(cluster_num):\n",
    "        dict_lst.append({'lng':[], 'lat':[]})\n",
    "    for i in range(cluster_num):\n",
    "        for data in coord_cluster[i]:\n",
    "            dict_lst[i]['lng'].append(data[0])\n",
    "            dict_lst[i]['lat'].append(data[1])\n",
    "    gdf_lst = []\n",
    "    for i in range(cluster_num):\n",
    "        df = dict_lst[i]\n",
    "        gdf_cluster = gpd.GeoDataFrame(data=pd.DataFrame(df), geometry=gpd.points_from_xy(x=pd.DataFrame(df).lng, y=pd.DataFrame(df).lat))\n",
    "        gdf_lst.append(gdf_cluster)\n",
    "    color_lst = ['black', 'r', 'gold', 'g', 'b']\n",
    "    # cluster 0 dots are in black.\n",
    "    cluster_plot_0 = gdf_lst[0].plot(color=color_lst[0], markersize=10)\n",
    "    # cluster 1 dots are in red.\n",
    "    cluster_plot_1 = gdf_lst[1].plot(ax=cluster_plot_0, color=color_lst[1], markersize=10)\n",
    "    # cluster 2 dots are in gold.\n",
    "    cluster_plot_all= gdf_lst[i].plot(ax=cluster_plot_1, color=color_lst[2], markersize=10)\n",
    "    pylab.show()"
   ]
  },
  {
   "cell_type": "code",
   "execution_count": 243,
   "id": "9e6d949e-9cf7-46d7-b0eb-c50ce944c72b",
   "metadata": {},
   "outputs": [
    {
     "name": "stdout",
     "output_type": "stream",
     "text": [
      "0      POINT (121.53130 25.04387)\n",
      "1      POINT (121.53319 25.04845)\n",
      "2      POINT (121.51908 25.07189)\n",
      "3      POINT (121.54796 25.05303)\n",
      "4      POINT (121.56684 25.03753)\n",
      "                  ...            \n",
      "495    POINT (121.54852 25.04010)\n",
      "496    POINT (121.53695 25.02413)\n",
      "497    POINT (121.55917 25.03733)\n",
      "498    POINT (121.54290 25.04204)\n",
      "499    POINT (121.54290 25.04204)\n",
      "Name: geometry, Length: 500, dtype: geometry\n"
     ]
    }
   ],
   "source": [
    "print(gdf_fPhotos['geometry'])"
   ]
  },
  {
   "cell_type": "markdown",
   "id": "513998bd-493e-4ed3-bc7b-27be3caaf9b8",
   "metadata": {},
   "source": [
    "# Task 4: scikit-learn"
   ]
  },
  {
   "cell_type": "markdown",
   "id": "696263eb-9b62-4f19-a3b2-6e34f34fc8bd",
   "metadata": {},
   "source": [
    "## K-means clustering "
   ]
  },
  {
   "cell_type": "code",
   "execution_count": 244,
   "id": "868ef6e4-2bc9-4e9e-9ef3-0230678ea738",
   "metadata": {},
   "outputs": [],
   "source": [
    "import matplotlib.pyplot as plt\n",
    "from sklearn import datasets\n",
    "from sklearn.cluster import KMeans\n",
    "import pandas as pd\n",
    "import numpy as np"
   ]
  },
  {
   "cell_type": "markdown",
   "id": "f673cd19-df5b-4cea-a46e-ec57d8ef841f",
   "metadata": {},
   "source": [
    "### Setting No.1"
   ]
  },
  {
   "cell_type": "code",
   "execution_count": 245,
   "id": "1154e16c-4ca6-4e1e-a2b5-5b6832cd9240",
   "metadata": {},
   "outputs": [
    {
     "name": "stdout",
     "output_type": "stream",
     "text": [
      "[0 0 0 0 0 0 0 0 1 1 0 1 0 0 0 0 0 0 0 1 1 0 0 0 0 2 0 1 0 0 1 1 1 1 1 1 0\n",
      " 1 1 1 1 1 1 1 0 1 1 1 1 1 1 1 1 1 2 0 1 1 1 1 1 1 1 1 1 1 0 0 0 1 1 1 1 1\n",
      " 1 1 0 0 0 0 0 1 0 0 1 1 0 1 1 1 1 1 1 0 0 0 0 0 1 1 1 1 1 1 0 0 1 1 0 0 0\n",
      " 1 1 1 1 0 0 0 0 1 1 1 2 2 2 0 0 1 1 1 0 1 1 0 0 0 0 0 0 1 1 0 0 0 0 1 1 1\n",
      " 1 1 1 1 0 1 1 1 1 1 1 0 0 0 0 0 0 0 1 1 1 1 0 1 0 0 0 0 1 1 0 0 1 1 1 1 1\n",
      " 1 1 1 1 1 0 0 1 0 0 1 1 1 1 1 1 1 0 0 0 0 0 0 0 1 0 0 0 0 0 1 1 1 1 1 1 1\n",
      " 1 1 1 1 1 1 0 1 1 1 1 1 1 1 1 1 1 1 1 1 0 1 0 0 1 0 0 0 0 0 0 0 0 0 0 0 1\n",
      " 1 0 1 0 0 0 0 0 0 0 1 1 0 0 0 0 2 0 1 0 0 1 1 1 1 1 1 0 1 1 1 1 1 1 1 0 1\n",
      " 1 1 1 1 1 1 1 1 2 0 1 1 1 1 1 1 1 1 1 1 0 0 0 1 1 1 1 1 1 1 0 0 0 0 0 1 0\n",
      " 0 1 1 0 1 1 1 1 1 1 0 0 0 0 0 1 1 1 1 1 1 0 0 1 1 0 0 0 1 1 1 1 0 0 0 0 1\n",
      " 1 1 2 2 2 0 0 1 1 1 0 1 1 0 0 0 0 0 0 1 1 0 0 0 0 1 1 1 1 1 1 1 0 1 1 1 1\n",
      " 1 1 0 0 0 0 0 0 0 1 1 1 1 0 1 0 0 0 0 1 1 0 0 1 1 1 1 1 1 1 1 1 1 0 0 1 0\n",
      " 0 1 1 1 1 1 1 1 0 0 0 0 0 0 0 1 0 0 0 0 0 1 1 1 1 1 1 1 1 1 1 1 1 1 0 1 1\n",
      " 1 1 1 1 1 1 1 1 1 1 1 0 1 0 0 1 0 0 0]\n"
     ]
    }
   ],
   "source": [
    "# Store flickr GeoDataframe as a Pandas Dataframe\n",
    "photo_df = pd.DataFrame(gdf_fPhotos)\n",
    "# Build the K-Means Clustering Model\n",
    "# K Means Cluster\n",
    "coord_lst = []\n",
    "df_count = len(photo_df)\n",
    "for i in range(df_count):\n",
    "    coord_lst.append([photo_df['Longitude'][i], photo_df['Latitude'][i]])\n",
    "X = np.array(coord_lst)\n",
    "model_1 = KMeans(n_clusters=3)\n",
    "model_1.fit(X)\n",
    "# This is the K-Means Clustering result\n",
    "print(model_1.labels_)"
   ]
  },
  {
   "cell_type": "code",
   "execution_count": 246,
   "id": "c4eda4eb-b1ff-43de-82d2-3325978335eb",
   "metadata": {},
   "outputs": [
    {
     "data": {
      "text/plain": [
       "Text(0.5, 1.0, 'K-Mean Clustering_1')"
      ]
     },
     "execution_count": 246,
     "metadata": {},
     "output_type": "execute_result"
    },
    {
     "data": {
      "image/png": "[encoded data removed]",
      "text/plain": [
       "<Figure size 504x504 with 1 Axes>"
      ]
     },
     "metadata": {
      "needs_background": "light"
     },
     "output_type": "display_data"
    }
   ],
   "source": [
    "#Visualise the classifier results\n",
    "# Set the size of the plot\n",
    "plt.figure(figsize=(7,7))\n",
    "# Create a colormap\n",
    "colormap = np.array(['red', 'lime', 'black'])\n",
    "plt.scatter(photo_df['Longitude'], photo_df['Latitude'], c=colormap[model_1.labels_], s=30)\n",
    "plt.title('K-Mean Clustering_1')"
   ]
  },
  {
   "cell_type": "markdown",
   "id": "c11116ab-91bb-4011-9ecf-902e89af3975",
   "metadata": {},
   "source": [
    "### Setting No.2"
   ]
  },
  {
   "cell_type": "code",
   "execution_count": 247,
   "id": "a9e50dc1-2e30-4641-8650-4901e555b8b5",
   "metadata": {},
   "outputs": [
    {
     "name": "stdout",
     "output_type": "stream",
     "text": [
      "[1 1 1 1 1 1 0 1 1 1 1 1 1 1 1 1 1 1 1 1 1 1 1 1 1 0 1 1 1 1 1 1 1 1 1 1 1\n",
      " 1 1 1 1 1 1 1 1 1 1 1 1 1 1 1 1 1 0 1 1 1 1 1 1 1 1 1 1 1 1 1 1 1 1 1 1 1\n",
      " 1 1 1 1 1 1 1 1 1 0 1 1 1 1 1 1 1 1 1 1 1 1 1 1 1 1 1 1 1 1 0 0 1 1 1 1 1\n",
      " 1 1 1 1 0 0 0 0 1 1 1 0 0 0 1 1 1 1 1 1 1 1 1 1 1 0 1 1 1 1 1 1 1 1 1 1 1\n",
      " 1 1 1 1 1 1 1 1 1 1 1 1 1 1 1 1 1 1 1 1 1 1 1 1 1 1 1 1 1 1 1 1 1 1 1 1 1\n",
      " 1 1 1 1 1 1 1 1 1 1 1 1 1 1 1 1 1 1 1 1 0 1 1 1 1 1 1 1 1 1 1 1 1 1 1 1 1\n",
      " 1 1 1 1 1 1 0 1 1 1 1 1 1 1 1 1 1 1 1 1 1 1 1 1 1 1 1 1 1 1 1 1 1 1 0 1 1\n",
      " 1 1 1 1 1 1 1 1 1 1 1 1 1 1 1 1 0 1 1 1 1 1 1 1 1 1 1 1 1 1 1 1 1 1 1 1 1\n",
      " 1 1 1 1 1 1 1 1 0 1 1 1 1 1 1 1 1 1 1 1 1 1 1 1 1 1 1 1 1 1 1 1 1 1 1 1 1\n",
      " 0 1 1 1 1 1 1 1 1 1 1 1 1 1 1 1 1 1 1 1 1 0 0 1 1 1 1 1 1 1 1 1 0 0 0 0 1\n",
      " 1 1 0 0 0 1 1 1 1 1 1 1 1 1 1 1 0 1 1 1 1 1 1 1 1 1 1 1 1 1 1 1 1 1 1 1 1\n",
      " 1 1 1 1 1 1 1 1 1 1 1 1 1 1 1 1 1 1 1 1 1 1 1 1 1 1 1 1 1 1 1 1 1 1 1 1 1\n",
      " 1 1 1 1 1 1 1 1 1 1 1 0 1 1 1 1 1 1 1 1 1 1 1 1 1 1 1 1 1 1 1 1 1 1 0 1 1\n",
      " 1 1 1 1 1 1 1 1 1 1 1 1 1 1 1 1 1 1 1]\n"
     ]
    },
    {
     "data": {
      "text/plain": [
       "Text(0.5, 1.0, 'K-Mean Clustering_2')"
      ]
     },
     "execution_count": 247,
     "metadata": {},
     "output_type": "execute_result"
    },
    {
     "data": {
      "image/png": "[encoded data removed]",
      "text/plain": [
       "<Figure size 504x504 with 1 Axes>"
      ]
     },
     "metadata": {
      "needs_background": "light"
     },
     "output_type": "display_data"
    }
   ],
   "source": [
    "# Store flickr GeoDataframe as a Pandas Dataframe\n",
    "photo_df = pd.DataFrame(gdf_fPhotos)\n",
    "# Build the K-Means Clustering Model\n",
    "# K Means Cluster\n",
    "coord_lst = []\n",
    "df_count = len(photo_df)\n",
    "for i in range(df_count):\n",
    "    coord_lst.append([photo_df['Longitude'][i], photo_df['Latitude'][i]])\n",
    "X = np.array(coord_lst)\n",
    "# parameter from setting_1 = 3 to this setting_2 = 5\n",
    "model_2 = KMeans(n_clusters=2)\n",
    "model_2.fit(X)\n",
    "# This is the K-Means Clustering result\n",
    "print(model_2.labels_)\n",
    "#Visualise the classifier results\n",
    "# Set the size of the plot\n",
    "plt.figure(figsize=(7,7))\n",
    "# Create a colormap\n",
    "colormap = np.array(['red', 'lime', 'black', 'gold'])\n",
    "plt.scatter(photo_df['Longitude'], photo_df['Latitude'], c=colormap[model_2.labels_], s=30)\n",
    "plt.title('K-Mean Clustering_2')"
   ]
  },
  {
   "cell_type": "markdown",
   "id": "3eae6958-87fd-4aec-8c91-ab04159b4d1c",
   "metadata": {},
   "source": [
    "## DBSCAN Clustering"
   ]
  },
  {
   "cell_type": "code",
   "execution_count": 248,
   "id": "551253be-1599-4da8-b14c-078aa37f07c2",
   "metadata": {},
   "outputs": [],
   "source": [
    "import numpy as np\n",
    "from sklearn.cluster import DBSCAN\n",
    "from sklearn import metrics"
   ]
  },
  {
   "cell_type": "code",
   "execution_count": 249,
   "id": "9b7c0cf6-de0d-4031-8d0f-94ccb316bcf4",
   "metadata": {},
   "outputs": [
    {
     "name": "stdout",
     "output_type": "stream",
     "text": [
      "[ 0  0  0  0  0  0  0  0  0  0  0  0  0  0  0  0  0  0  0  0  0  0  0  0\n",
      "  0 -1  0  0  0  0  0  0  0  0  0  0  0  0  0  0  0  0  0  0  0  0  0  0\n",
      "  0  0  0  0  0  0 -1  0  0  0  0  0  0  0  0  0  0  0  0  0  0  0  0  0\n",
      "  0  0  0  0  0  0  0  0  0  0  0  0  0  0  0  0  0  0  0  0  0  0  0  0\n",
      "  0  0  0  0  0  0  0  0  0  0  0  0  0  0  0  0  0  0  0  0  0  0  0  0\n",
      "  0  0 -1 -1 -1  0  0  0  0  0  0  0  0  0  0  0  0  0  0  0  0  0  0  0\n",
      "  0  0  0  0  0  0  0  0  0  0  0  0  0  0  0  0  0  0  0  0  0  0  0  0\n",
      "  0  0  0  0  0  0  0  0  0  0  0  0  0  0  0  0  0  0  0  0  0  0  0  0\n",
      "  0  0  0  0  0  0  0  0  0  0  0  0  0 -1  0  0  0  0  0  0  0  0  0  0\n",
      "  0  0  0  0  0  0  0  0  0  0  0  0  0  0  0  0  0  0  0  0  0  0  0  0\n",
      "  0  0  0  0  0  0  0  0  0  0  0  0  0  0  0  0  0  0  0  0  0  0  0  0\n",
      "  0  0  0  0  0  0  0  0  0  0  0 -1  0  0  0  0  0  0  0  0  0  0  0  0\n",
      "  0  0  0  0  0  0  0  0  0  0  0  0  0  0  0  0 -1  0  0  0  0  0  0  0\n",
      "  0  0  0  0  0  0  0  0  0  0  0  0  0  0  0  0  0  0  0  0  0  0  0  0\n",
      "  0  0  0  0  0  0  0  0  0  0  0  0  0  0  0  0  0  0  0  0  0  0  0  0\n",
      "  0  0  0  0  0  0  0  0  0  0  0  0 -1 -1 -1  0  0  0  0  0  0  0  0  0\n",
      "  0  0  0  0  0  0  0  0  0  0  0  0  0  0  0  0  0  0  0  0  0  0  0  0\n",
      "  0  0  0  0  0  0  0  0  0  0  0  0  0  0  0  0  0  0  0  0  0  0  0  0\n",
      "  0  0  0  0  0  0  0  0  0  0  0  0  0  0  0  0  0  0  0  0  0  0  0 -1\n",
      "  0  0  0  0  0  0  0  0  0  0  0  0  0  0  0  0  0  0  0  0  0  0  0  0\n",
      "  0  0  0  0  0  0  0  0  0  0  0  0  0  0  0  0  0  0  0  0]\n"
     ]
    },
    {
     "data": {
      "text/plain": [
       "Text(0.5, 1.0, 'DBSCAN Clustering')"
      ]
     },
     "execution_count": 249,
     "metadata": {},
     "output_type": "execute_result"
    },
    {
     "data": {
      "image/png": "[encoded data removed]",
      "text/plain": [
       "<Figure size 504x504 with 1 Axes>"
      ]
     },
     "metadata": {
      "needs_background": "light"
     },
     "output_type": "display_data"
    }
   ],
   "source": [
    "photo_df = pd.DataFrame(gdf_fPhotos)\n",
    "coord_lst = []\n",
    "df_count = len(photo_df)\n",
    "for i in range(df_count):\n",
    "    coord_lst.append([photo_df['Longitude'][i], photo_df['Latitude'][i]])\n",
    "X = np.array(coord_lst)\n",
    "# Compute DBSCAN\n",
    "clustering = DBSCAN(eps=0.1, min_samples=10)\n",
    "db=clustering.fit(X)\n",
    "print(db.labels_) #Cluster labels for each point in the dataset given to fit(). Noisy samples are given the label -1.\n",
    "#Visualise the classifier results\n",
    "# Set the size of the plot\n",
    "plt.figure(figsize=(7,7))\n",
    "# Create a colormap\n",
    "colormap = np.array(['red',\"lime\",'black','gold'])\n",
    "plt.scatter(photo_df['Longitude'], photo_df['Latitude'], c=colormap[db.labels_], s=40)\n",
    "plt.title('DBSCAN Clustering')"
   ]
  },
  {
   "cell_type": "markdown",
   "id": "e797cb35-12ff-4638-91f1-e36c6afdb1a0",
   "metadata": {},
   "source": [
    "## Rand Index"
   ]
  },
  {
   "cell_type": "markdown",
   "id": "4972ff4f-8a32-47d0-92a9-d377e9287a36",
   "metadata": {},
   "source": [
    "### K-Means Setting 1 vs DBSCAN"
   ]
  },
  {
   "cell_type": "code",
   "execution_count": 250,
   "id": "7ff25f2c-d006-410f-b883-1677c5b08559",
   "metadata": {},
   "outputs": [
    {
     "data": {
      "text/plain": [
       "0.0786292766915151"
      ]
     },
     "execution_count": 250,
     "metadata": {},
     "output_type": "execute_result"
    }
   ],
   "source": [
    "kmeans_result_1 = model_1.labels_.copy()\n",
    "db_result = clustering.labels_.copy()\n",
    "from sklearn.metrics.cluster import adjusted_rand_score\n",
    "adjusted_rand_score(db_result, kmeans_result_1)"
   ]
  },
  {
   "cell_type": "markdown",
   "id": "895ca4c0-6dca-4a8f-8f35-77063cb1b6ef",
   "metadata": {},
   "source": [
    "### K-Means Setting 2 vs DBSCAN"
   ]
  },
  {
   "cell_type": "code",
   "execution_count": 251,
   "id": "21431e20-e40a-4ec9-930e-db77260e5f71",
   "metadata": {},
   "outputs": [
    {
     "data": {
      "text/plain": [
       "0.5058168623447027"
      ]
     },
     "execution_count": 251,
     "metadata": {},
     "output_type": "execute_result"
    }
   ],
   "source": [
    "kmeans_result = model_2.labels_.copy()\n",
    "db_result = clustering.labels_.copy()\n",
    "from sklearn.metrics.cluster import adjusted_rand_score\n",
    "adjusted_rand_score(db_result, kmeans_result)"
   ]
  },
  {
   "cell_type": "markdown",
   "id": "bbd52c09-b2b1-4625-933c-706bd0d43ad2",
   "metadata": {},
   "source": [
    "Comment: It seems like my data distribution is not suitable for DBSCAN. The data coordinates are too close to each other, meaning that DBSCAN can sometimes have lots of overlap. Thus, when the number of clusters decreases in K-Means, the Rand Index would become higher because the K-Means result would be closer to the DBSCAN result."
   ]
  }
 ],
 "metadata": {
  "kernelspec": {
   "display_name": "Python 3 (ipykernel)",
   "language": "python",
   "name": "python3"
  },
  "language_info": {
   "codemirror_mode": {
    "name": "ipython",
    "version": 3
   },
   "file_extension": ".py",
   "mimetype": "text/x-python",
   "name": "python",
   "nbconvert_exporter": "python",
   "pygments_lexer": "ipython3",
   "version": "3.9.10"
  }
 },
 "nbformat": 4,
 "nbformat_minor": 5
}
